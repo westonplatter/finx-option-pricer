{
 "cells": [
  {
   "cell_type": "code",
   "execution_count": null,
   "id": "4323e8a4-d869-46d1-b94c-e67900195aa5",
   "metadata": {},
   "outputs": [],
   "source": [
    "%load_ext autoreload\n",
    "%autoreload 2"
   ]
  },
  {
   "cell_type": "code",
   "execution_count": null,
   "id": "f8162f5e",
   "metadata": {},
   "outputs": [],
   "source": [
    "#\n",
    "# import the .. folder so we can import finx_option_pricer\n",
    "#\n",
    "import os\n",
    "import sys\n",
    "import inspect\n",
    "\n",
    "currentdir = os.path.dirname(os.path.abspath(inspect.getfile(inspect.currentframe())))\n",
    "parentdir = os.path.dirname(currentdir)\n",
    "sys.path.insert(0, parentdir)"
   ]
  },
  {
   "cell_type": "code",
   "execution_count": null,
   "id": "9e597025-d4cd-451f-98f5-5742daccec35",
   "metadata": {},
   "outputs": [],
   "source": [
    "import matplotlib.pyplot as plt\n",
    "\n",
    "from finx_option_pricer.option import Option\n",
    "from finx_option_pricer.option_plot import OptionsPlot, OptionPosition"
   ]
  },
  {
   "cell_type": "code",
   "execution_count": null,
   "id": "69065f79-0352-49b8-8475-13cfa5c316d4",
   "metadata": {},
   "outputs": [],
   "source": [
    "spot_range = [65, 140]\n",
    "\n",
    "oil_price = 102.67\n",
    "\n",
    "# long 14d put\n",
    "op1 = OptionPosition(\n",
    "    quantity=1, \n",
    "    option=Option(S=oil_price, K=110, T=14/252, r=0.0, sigma=0.65, option_type='p'))\n",
    "\n",
    "# short 7d call @ 95\n",
    "op2 = OptionPosition(\n",
    "    quantity=-1, \n",
    "    option=Option(S=oil_price, K=108, T=8/252, r=0.0, sigma=0.65, option_type='p'))\n",
    "\n",
    "op_plot = OptionsPlot(\n",
    "    option_positions=[\n",
    "        op1, op2\n",
    "    ], \n",
    "    spot_range=spot_range)\n",
    "\n",
    "op_plot.describe_option_positions()\n",
    "\n",
    "# increment 10 days, 1 day at a time\n",
    "df = op_plot.gen_value_df_timeincrementing(10, 1)\n",
    "df.set_index(\"strikes\", inplace=True)\n",
    "\n",
    "# set time incremeting columns\n",
    "columns = [f\"t{i}\" for i, _ in enumerate(df.columns)]\n",
    "columns[-1] = \"tf\"\n",
    "df.columns = columns\n"
   ]
  },
  {
   "cell_type": "code",
   "execution_count": null,
   "id": "507efaf6",
   "metadata": {},
   "outputs": [],
   "source": [
    "df.plot(figsize=(12, 8))\n",
    "plt.hlines(0, spot_range[0], spot_range[1], color=\"black\", linewidth=0.5)\n",
    "plt.axvline(x=oil_price, color=\"grey\", linestyle=\"--\")\n",
    "plt.axvline(x=112, color='green', linestyle=\"-.\")\n",
    "plt.savefig(\"../docs/complex_plot.png\")"
   ]
  }
 ],
 "metadata": {
  "kernelspec": {
   "display_name": "finx-all",
   "language": "python",
   "name": "finx-all"
  },
  "language_info": {
   "codemirror_mode": {
    "name": "ipython",
    "version": 3
   },
   "file_extension": ".py",
   "mimetype": "text/x-python",
   "name": "python",
   "nbconvert_exporter": "python",
   "pygments_lexer": "ipython3",
   "version": "3.8.9"
  }
 },
 "nbformat": 4,
 "nbformat_minor": 5
}
